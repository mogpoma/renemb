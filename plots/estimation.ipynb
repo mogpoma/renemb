{
 "cells": [
  {
   "cell_type": "code",
   "execution_count": null,
   "metadata": {},
   "outputs": [],
   "source": [
    "import numpy as np\n",
    "import matplotlib.pyplot as plt\n",
    "import pandas as pd\n",
    "\n",
    "red = \"#D81B60\"\n",
    "yellow = \"#FFC107\"\n",
    "blue = \"#1E88E5\"\n",
    "green = \"#004D40\"\n",
    "\n",
    "from IPython.display import display, HTML\n",
    "display(HTML(\"<style>.container { width:80% !important; }</style>\"))\n",
    "display(HTML(\"<style>.output_result { max-width:100% !important; }</style>\"))"
   ]
  },
  {
   "cell_type": "code",
   "execution_count": null,
   "metadata": {},
   "outputs": [],
   "source": [
    "df_0 = pd.read_csv('../results/estimate/renemb_0_results.csv')\n",
    "df_1 = pd.read_csv('../results/estimate/renemb_1_results.csv')\n",
    "df_2 = pd.read_csv('../results/estimate/renemb_2_results.csv')\n",
    "\n",
    "renemb_df = pd.merge(df_0, df_1, on=('filename','target'), how='outer', suffixes=('_0', '_1'))\n",
    "renemb_df = pd.merge(renemb_df, df_2, on=('filename','target'), how='outer', suffixes=('', '_2'))\n",
    "renemb_df.rename(columns={'estimate':'estimate_2'}, inplace=True)\n",
    "\n",
    "renemb_df[\"estimate\"] = renemb_df[[\"estimate_0\", \"estimate_1\", \"estimate_2\"]].mean(axis=1)\n",
    "renemb_df = renemb_df[renemb_df[\"target\"] > 0]\n"
   ]
  },
  {
   "cell_type": "code",
   "execution_count": null,
   "metadata": {},
   "outputs": [],
   "source": [
    "plt.rcParams['font.family'] = 'Rasa'\n",
    "labelsize = 20\n",
    "\n",
    "fig, ax = plt.subplots(figsize=(6, 6))\n",
    "ax.grid(zorder=-10)\n",
    "ax.set_axisbelow(True)\n",
    "bins = [np.arange(-.05,1.15,.1), np.arange(-.05,1.15,.1)]\n",
    "x, y = renemb_df['target'], renemb_df[\"estimate\"]\n",
    "ax.scatter(x, y, label='renemb', color=\"black\")\n",
    "m, b = np.polyfit(x, y, 1)\n",
    "ax.plot(np.arange(0,1.1,0.1), np.arange(0,1.1,0.1), color=\"black\", linestyle=\"--\", label=\"Linear fit\")\n",
    "\n",
    "ax.set_xlabel(\"True preparation effort\", size=labelsize)\n",
    "ax.set_ylabel(\"Estimated preparation effort\", size=labelsize)\n",
    "\n",
    "ticks = list(np.arange(0,1.1,0.1))\n",
    "ticklabels = [f\"{tick:.1f}\" for tick in ticks]\n",
    "ax.set_xticks(ticks=ticks, labels=ticklabels, size=labelsize-2);\n",
    "ax.set_yticks(ticks=ticks, labels=ticklabels, size=labelsize-2);\n",
    "\n",
    "plt.savefig('estimate_results.png', dpi=300, bbox_inches='tight')"
   ]
  }
 ],
 "metadata": {
  "kernelspec": {
   "display_name": "Python 3 (ipykernel)",
   "language": "python",
   "name": "python3"
  },
  "language_info": {
   "codemirror_mode": {
    "name": "ipython",
    "version": 3
   },
   "file_extension": ".py",
   "mimetype": "text/x-python",
   "name": "python",
   "nbconvert_exporter": "python",
   "pygments_lexer": "ipython3",
   "version": "3.11.2"
  }
 },
 "nbformat": 4,
 "nbformat_minor": 1
}
